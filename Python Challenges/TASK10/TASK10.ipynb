{
 "cells": [
  {
   "cell_type": "markdown",
   "metadata": {},
   "source": [
    "# Q1 Given dictionary is consisted of vehicles and their weights in kilograms. Construct a list of the names of vehicles with weight below 5000 kilograms. In the same list comprehension make the key names all upper case. \n",
    "dict={\"Sedan\": 1500, \"SUV\": 2000, \"Pickup\": 2500, \"Minivan\": 1600, \"Van\": 2400, \"Semi\": 13600, \"Bicycle\": 7, \"Motorcycle\": 110} \n"
   ]
  },
  {
   "cell_type": "code",
   "execution_count": 3,
   "metadata": {},
   "outputs": [
    {
     "name": "stdout",
     "output_type": "stream",
     "text": [
      "['SEDAN', 'SUV', 'PICKUP', 'MINIVAN', 'VAN', 'BICYCLE', 'MOTORCYCLE']\n",
      "['SEDAN', 'SUV', 'PICKUP', 'MINIVAN', 'VAN', 'BICYCLE', 'MOTORCYCLE']\n"
     ]
    }
   ],
   "source": [
    "dict={\"Sedan\": 1500, \"SUV\": 2000, \"Pickup\": 2500, \"Minivan\": 1600, \"Van\": 2400, \"Semi\": 13600, \"Bicycle\": 7, \"Motorcycle\": 110}\n",
    "\n",
    "list=[]\n",
    "list1 = []\n",
    "for i in dict:\n",
    "    if dict[i] < 5000:\n",
    "        x = i.upper()\n",
    "        list.append(i.upper())\n",
    "print(list)\n",
    "\n",
    "list1 = [i.upper() for i in dict if dict[i]<5000]\n",
    "\n",
    "print(list1)"
   ]
  },
  {
   "cell_type": "markdown",
   "metadata": {},
   "source": [
    "# Q2 Write a map function that returns the squares of the items in the list. \n",
    "lst1=[10, 20, 30, 40, 50, 60]"
   ]
  },
  {
   "cell_type": "code",
   "execution_count": 4,
   "metadata": {},
   "outputs": [
    {
     "name": "stdout",
     "output_type": "stream",
     "text": [
      "4\n",
      "4\n",
      "9\n",
      "9\n",
      "16\n",
      "16\n",
      "25\n",
      "25\n"
     ]
    }
   ],
   "source": [
    "def square(x):\n",
    "\n",
    "    return x*x\n",
    "\n",
    "nums = [2, 2, 3, 3, 4, 4, 5, 5]\n",
    "\n",
    "squared_nums = map(square, nums)\n",
    "\n",
    "for i in squared_nums:\n",
    "\n",
    "    print(i)"
   ]
  },
  {
   "cell_type": "markdown",
   "metadata": {},
   "source": [
    "# 3. Create a dictionary (in your file) of names and birthdays. When you run your program it should ask the user to enter a name, and return the birthday of that person back to them. \n"
   ]
  },
  {
   "cell_type": "code",
   "execution_count": 6,
   "metadata": {},
   "outputs": [
    {
     "name": "stdout",
     "output_type": "stream",
     "text": [
      "['Jack', 'James', 'Jill', 'Pam', 'Sam']\n",
      "Enter a name from the list above to obtain that persons birthday: Jack\n",
      "Jack birthday is 01/03/1993\n"
     ]
    }
   ],
   "source": [
    "\n",
    "Persons = [ 'Jack', 'James', 'Jill', 'Pam','Sam']\n",
    "print(Persons)\n",
    "name = input('Enter a name from the list above to obtain that persons birthday: ')\n",
    "dict={\"Jack\": '01/03/1993', \"James\": '09/09/1994', \"Jill\": '03/03/1999', \"Pam\": '01/01/1990', \"Sam\": '12/12/1995'}\n",
    "for i in dict:\n",
    "    if i == name:\n",
    "        x = dict.get(i)\n",
    "        print (f'{name} birthday is {x}')\n",
    "        break\n",
    "else:\n",
    "    print ('Please enter a name from the list above')\n"
   ]
  },
  {
   "cell_type": "markdown",
   "metadata": {},
   "source": [
    "# 4. Write a password generator in Python. Be creative with how you generate passwords - strong passwords have a mix of lowercase letters, uppercase letters, numbers, and symbols. The passwords should be random, generating a new password every time the user asks for a new password. Include your code in a main method.\n"
   ]
  },
  {
   "cell_type": "code",
   "execution_count": 4,
   "metadata": {},
   "outputs": [
    {
     "name": "stdout",
     "output_type": "stream",
     "text": [
      "Enter the length of you password: 8\n",
      "Your password is:\n",
      "A6.bFoAc\n",
      "hxc82R2W\n"
     ]
    }
   ],
   "source": [
    "import random\n",
    "\n",
    "length = int(input('Enter the length of you password: '))\n",
    "\n",
    "keys = 'abcdefghijklmnopqrstuvwxyzABCDEFGHIJKLMNOPQRSTUVWXYZ!@£$%^&*().,?0123456789'\n",
    "\n",
    "print('Your password is:')\n",
    "\n",
    "for i in range(2):\n",
    "  password = ''\n",
    "  for j in range(length):\n",
    "    password += random.choice(keys)\n",
    "  print(password)"
   ]
  }
 ],
 "metadata": {
  "kernelspec": {
   "display_name": "Python 3",
   "language": "python",
   "name": "python3"
  },
  "language_info": {
   "codemirror_mode": {
    "name": "ipython",
    "version": 3
   },
   "file_extension": ".py",
   "mimetype": "text/x-python",
   "name": "python",
   "nbconvert_exporter": "python",
   "pygments_lexer": "ipython3",
   "version": "3.7.6"
  }
 },
 "nbformat": 4,
 "nbformat_minor": 4
}
