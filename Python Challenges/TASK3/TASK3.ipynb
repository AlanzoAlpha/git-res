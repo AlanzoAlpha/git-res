{
 "cells": [
  {
   "cell_type": "markdown",
   "metadata": {},
   "source": [
    "# Q1 Write a Python program to display some information about the OS where the script is running "
   ]
  },
  {
   "cell_type": "code",
   "execution_count": 3,
   "metadata": {},
   "outputs": [
    {
     "name": "stdout",
     "output_type": "stream",
     "text": [
      "nt\n",
      "Windows\n",
      "10\n"
     ]
    }
   ],
   "source": [
    "import platform\n",
    "import os\n",
    "print(os.name)\n",
    "print(platform.system())\n",
    "print(platform.release())"
   ]
  },
  {
   "cell_type": "code",
   "execution_count": 4,
   "metadata": {},
   "outputs": [
    {
     "name": "stdout",
     "output_type": "stream",
     "text": [
      "architecture: ('64bit', 'WindowsPE')\n",
      "linux_distribution: ('', '', '')\n",
      "mac_ver: ('', ('', '', ''), '')\n",
      "machine: AMD64\n",
      "node: DESKTOP-JLTE9Q0\n",
      "platform: Windows-10-10.0.19041-SP0\n",
      "processor: AMD64 Family 22 Model 48 Stepping 1, AuthenticAMD\n",
      "python_build: ('default', 'Jan  8 2020 20:23:39')\n",
      "python_compiler: MSC v.1916 64 bit (AMD64)\n",
      "python_version: 3.7.6\n",
      "release: 10\n",
      "system: Windows\n",
      "uname: uname_result(system='Windows', node='DESKTOP-JLTE9Q0', release='10', version='10.0.19041', machine='AMD64', processor='AMD64 Family 22 Model 48 Stepping 1, AuthenticAMD')\n",
      "version: 10.0.19041\n"
     ]
    },
    {
     "name": "stderr",
     "output_type": "stream",
     "text": [
      "C:\\Users\\alanz\\anaconda3\\lib\\site-packages\\ipykernel_launcher.py:21: DeprecationWarning: dist() and linux_distribution() functions are deprecated in Python 3.5\n"
     ]
    }
   ],
   "source": [
    "import platform as plat\n",
    "\n",
    "os_profile = [\n",
    "        'architecture',\n",
    "        'linux_distribution',\n",
    "        'mac_ver',\n",
    "        'machine',\n",
    "        'node',\n",
    "        'platform',\n",
    "        'processor',\n",
    "        'python_build',\n",
    "        'python_compiler',\n",
    "        'python_version',\n",
    "        'release',\n",
    "        'system',\n",
    "        'uname',\n",
    "        'version',\n",
    "    ]\n",
    "for key in os_profile:\n",
    "  if hasattr(plat, key):\n",
    "    print(key +  \": \" + str(getattr(plat, key)()))\n"
   ]
  },
  {
   "cell_type": "markdown",
   "metadata": {},
   "source": [
    "# Q2 Write a Python program to check whether three given lengths (integers) of three sides form a right angle triangle. Print \"Yes\" if the given sides form a right triangle otherwise print \"No\". "
   ]
  },
  {
   "cell_type": "code",
   "execution_count": 10,
   "metadata": {},
   "outputs": [
    {
     "name": "stdout",
     "output_type": "stream",
     "text": [
      "Input three triangle sides\n",
      "Input x: 6\n",
      "Input y: 7\n",
      "Input z: 8\n",
      "No\n"
     ]
    }
   ],
   "source": [
    "print(\"Input three triangle sides\")\n",
    "x = int(input('Input x: '))\n",
    "y = int(input('Input y: '))\n",
    "z = int(input('Input z: '))\n",
    "if x**2+y**2==z**2:\n",
    "    print('Yes')\n",
    "else:\n",
    "    print('No')"
   ]
  },
  {
   "cell_type": "markdown",
   "metadata": {},
   "source": [
    "# Q3 Write a Python script to concatenate following dictionaries to create a new one. a={1:10, 2:20} b={3:30, 4:40} c={5:50,6:60} "
   ]
  },
  {
   "cell_type": "code",
   "execution_count": 17,
   "metadata": {
    "scrolled": true
   },
   "outputs": [
    {
     "name": "stdout",
     "output_type": "stream",
     "text": [
      "{1: 10, 2: 20, 3: 30, 4: 40, 5: 50, 6: 60}\n"
     ]
    }
   ],
   "source": [
    "a={1:10, 2:20}\n",
    "b={3:30, 4:40}\n",
    "c={5:50,6:60}\n",
    "dicnew = {}\n",
    "for i in (a, b, c): dicnew.update(i)\n",
    "print(dicnew)\n"
   ]
  },
  {
   "cell_type": "markdown",
   "metadata": {},
   "source": [
    "# Q4 Write a Python script to check whether a given key already exists in a dictionary. d = {1: 10, 2: 20, 3: 30, 4: 40, 5: 50, 6: 60}"
   ]
  },
  {
   "cell_type": "code",
   "execution_count": 18,
   "metadata": {},
   "outputs": [
    {
     "name": "stdout",
     "output_type": "stream",
     "text": [
      "Present\n",
      "Not Present \n"
     ]
    }
   ],
   "source": [
    "dic = {1: 10, 2: 20, 3: 30, 4: 40, 5: 50, 6: 60}\n",
    "def check_key(i):\n",
    "  if i in dic:\n",
    "      print('Present')\n",
    "  else:\n",
    "      print('Not Present ')\n",
    "check_key(2)\n",
    "check_key(7)"
   ]
  }
 ],
 "metadata": {
  "kernelspec": {
   "display_name": "Python 3",
   "language": "python",
   "name": "python3"
  },
  "language_info": {
   "codemirror_mode": {
    "name": "ipython",
    "version": 3
   },
   "file_extension": ".py",
   "mimetype": "text/x-python",
   "name": "python",
   "nbconvert_exporter": "python",
   "pygments_lexer": "ipython3",
   "version": "3.7.6"
  }
 },
 "nbformat": 4,
 "nbformat_minor": 4
}
