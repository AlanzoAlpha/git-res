{
 "cells": [
  {
   "cell_type": "markdown",
   "metadata": {},
   "source": [
    "# Shakespeare Assignment"
   ]
  },
  {
   "cell_type": "markdown",
   "metadata": {},
   "source": [
    "# Q1 Count the number of words in a text file"
   ]
  },
  {
   "cell_type": "code",
   "execution_count": 1,
   "metadata": {},
   "outputs": [
    {
     "name": "stdout",
     "output_type": "stream",
     "text": [
      "Word count of Shakespeare text file. : 901325\n"
     ]
    }
   ],
   "source": [
    "f = open(\"Shakespeare.txt\", \"r+\")\n",
    "text = f.read()\n",
    "words = text.split()\n",
    "c = len(words)\n",
    "print('Word count of Shakespeare text file. :', c)"
   ]
  },
  {
   "cell_type": "markdown",
   "metadata": {},
   "source": [
    "# Q2 Line count in Shakespeare text file."
   ]
  },
  {
   "cell_type": "code",
   "execution_count": 2,
   "metadata": {},
   "outputs": [
    {
     "name": "stdout",
     "output_type": "stream",
     "text": [
      "124456\n"
     ]
    }
   ],
   "source": [
    "num_lines = len(open(\"Shakespeare.txt\").readlines())\n",
    "print (num_lines)\n"
   ]
  },
  {
   "cell_type": "markdown",
   "metadata": {},
   "source": [
    "# Q2 vowels in Shakespeare text file."
   ]
  },
  {
   "cell_type": "code",
   "execution_count": 3,
   "metadata": {},
   "outputs": [
    {
     "name": "stdout",
     "output_type": "stream",
     "text": [
      "Vowel count:  2727825\n"
     ]
    }
   ],
   "source": [
    "f = open(\"Shakespeare.txt\", \"r+\")\n",
    "Sh = f.read().rstrip(\"\\n\")\n",
    "    \n",
    "v = set(\"A E I O U a e i o u\")\n",
    "countV = 0\n",
    "for i in Sh:\n",
    "    if i in v:\n",
    "        countV += 1\n",
    "\n",
    "print(\"Vowel count: \",countV)"
   ]
  },
  {
   "cell_type": "markdown",
   "metadata": {},
   "source": [
    "# Q2 Total amount of numbers in Shakespeare text file."
   ]
  },
  {
   "cell_type": "code",
   "execution_count": 4,
   "metadata": {},
   "outputs": [
    {
     "name": "stdout",
     "output_type": "stream",
     "text": [
      "Total numbers are: 72766\n"
     ]
    }
   ],
   "source": [
    "f = open(\"Shakespeare.txt\", \"r+\")\n",
    "c = 0\n",
    "for i in f:\n",
    "    if i.strip().isdigit():\n",
    "        c += int(i)\n",
    "\n",
    "print(\"Total numbers are:\", c)"
   ]
  },
  {
   "cell_type": "markdown",
   "metadata": {},
   "source": [
    "# Q5 Creating a CSV file with the results"
   ]
  },
  {
   "cell_type": "code",
   "execution_count": 5,
   "metadata": {},
   "outputs": [],
   "source": [
    "import csv\n",
    "with open(\"Shakescount.csv\", \"w\", newline='') as f:\n",
    "    f = csv.writer(f)\n",
    "\n",
    "    f.writerow(['Words', '901325'])\n",
    "    f.writerow(['Lines', '124456'])\n",
    "    f.writerow(['Vovels', '2727825'])\n",
    "    f.writerow(['Numbers', '72766'])\n",
    "    \n"
   ]
  }
 ],
 "metadata": {
  "kernelspec": {
   "display_name": "Python 3",
   "language": "python",
   "name": "python3"
  },
  "language_info": {
   "codemirror_mode": {
    "name": "ipython",
    "version": 3
   },
   "file_extension": ".py",
   "mimetype": "text/x-python",
   "name": "python",
   "nbconvert_exporter": "python",
   "pygments_lexer": "ipython3",
   "version": "3.7.6"
  }
 },
 "nbformat": 4,
 "nbformat_minor": 4
}
