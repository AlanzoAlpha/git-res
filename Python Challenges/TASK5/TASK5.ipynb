{
 "cells": [
  {
   "cell_type": "markdown",
   "metadata": {},
   "source": [
    "# Q1 Create a function that takes a list of student names and returns a list of student names in alphabetical order."
   ]
  },
  {
   "cell_type": "code",
   "execution_count": 1,
   "metadata": {},
   "outputs": [
    {
     "name": "stdout",
     "output_type": "stream",
     "text": [
      "['Bil', 'Jim', 'Rome', 'Tim', 'Tom']\n"
     ]
    }
   ],
   "source": [
    "Student_name = ['Tim', 'Tom', 'Bil', 'Rome', 'Jim']\n",
    "def sort1(Student_name):\n",
    "    x = sorted(Student_name)\n",
    "    print(x)\n",
    "\n",
    "sort1(Student_name)"
   ]
  },
  {
   "cell_type": "markdown",
   "metadata": {},
   "source": [
    "# Q2 Write a Python class which has two methods get_String and print_String.  \n",
    "a. get_String accept a string from the user \n",
    "b. print_String print the string in upper case."
   ]
  },
  {
   "cell_type": "code",
   "execution_count": 3,
   "metadata": {},
   "outputs": [
    {
     "name": "stdout",
     "output_type": "stream",
     "text": [
      "Enter a poem: He sell sea shell at the sea shore.\n",
      "HE SELL SEA SHELL AT THE SEA SHORE.\n"
     ]
    }
   ],
   "source": [
    "\n",
    "class Ass_4():\n",
    "    def __init__(self):\n",
    "        self.string1 = \"\"\n",
    "\n",
    "    def get_s(self):\n",
    "        self.string1 = input('Enter a poem: ')\n",
    "\n",
    "    def print_s(self):\n",
    "        print(self.string1.upper())\n",
    "\n",
    "string1 = Ass_4()\n",
    "string1.get_s()\n",
    "string1.print_s()"
   ]
  },
  {
   "cell_type": "markdown",
   "metadata": {},
   "source": [
    "# Q3 Write a Python program to check the validity of password input by users. Go to the editor \n",
    " #Validation : \n",
    " #At least 1 letter between [a-z] and 1 letter between [A-Z]. \n",
    " #At least 1 number between [0-9]. \n",
    " #At least 1 character from [$#@]. \n",
    " #Minimum length 6 characters. \n",
    " #Maximum length 16 characters. "
   ]
  },
  {
   "cell_type": "code",
   "execution_count": 4,
   "metadata": {},
   "outputs": [
    {
     "name": "stdout",
     "output_type": "stream",
     "text": [
      "Enter your pass word: hdjdj4949HH#0\n",
      "Valid Password\n"
     ]
    }
   ],
   "source": [
    "import re\n",
    "#Taking password\n",
    "Password= input(\"Enter your pass word: \")\n",
    "#Condition\n",
    "c = True\n",
    "while c:\n",
    "    if (len(Password)<6 or len(Password)>16):\n",
    "        break\n",
    "    elif not re.search(\"[a-z]\",Password):\n",
    "        break\n",
    "    elif not re.search(\"[0-9]\",Password):\n",
    "        break\n",
    "    elif not re.search(\"[A-Z]\",Password):\n",
    "        break\n",
    "    elif not re.search(\"[$#@]\",Password):\n",
    "        break\n",
    "    elif re.search(\"\\s\",Password):\n",
    "        break\n",
    "    else:\n",
    "        print(\"Valid Password\")\n",
    "        c=False\n",
    "        break\n",
    "\n",
    "if c:\n",
    "    print(\"Not a Valid Password\")\n"
   ]
  },
  {
   "cell_type": "markdown",
   "metadata": {},
   "source": [
    "# 4. Write a Python program to construct the following pattern, using a nested for loop. \n",
    "*  \n",
    "* *  \n",
    "* * *  \n",
    "* * * *  \n",
    "* * * * *  \n",
    "* * * *  \n",
    "* * *  \n",
    "* *  \n",
    "* "
   ]
  },
  {
   "cell_type": "code",
   "execution_count": 5,
   "metadata": {},
   "outputs": [
    {
     "name": "stdout",
     "output_type": "stream",
     "text": [
      "\n",
      "* \n",
      "* * \n",
      "* * * \n",
      "* * * * \n",
      "* * * * * \n",
      "* * * * \n",
      "* * * \n",
      "* * \n",
      "* \n"
     ]
    }
   ],
   "source": [
    "num=5\n",
    "#going forwards\n",
    "for i in range(num):\n",
    "    for j in range(i):\n",
    "        print ('* ', end=\"\")\n",
    "    print('')\n",
    "#Peaked and coming back\n",
    "for i in range(num,0,-1):\n",
    "    for j in range(i):\n",
    "        print('* ', end=\"\")\n",
    "    print('')"
   ]
  }
 ],
 "metadata": {
  "kernelspec": {
   "display_name": "Python 3",
   "language": "python",
   "name": "python3"
  },
  "language_info": {
   "codemirror_mode": {
    "name": "ipython",
    "version": 3
   },
   "file_extension": ".py",
   "mimetype": "text/x-python",
   "name": "python",
   "nbconvert_exporter": "python",
   "pygments_lexer": "ipython3",
   "version": "3.7.6"
  }
 },
 "nbformat": 4,
 "nbformat_minor": 4
}
