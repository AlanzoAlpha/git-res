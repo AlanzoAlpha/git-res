{
 "cells": [
  {
   "cell_type": "markdown",
   "metadata": {},
   "source": [
    "# Q1) Write a palindrome checker in Python. Write a Python function that checks whether a passed string is palindrome or not."
   ]
  },
  {
   "cell_type": "code",
   "execution_count": 1,
   "metadata": {},
   "outputs": [
    {
     "name": "stdout",
     "output_type": "stream",
     "text": [
      "Enter a number:677776\n",
      "The number is palindrome!\n"
     ]
    }
   ],
   "source": [
    "Unum = int(input(\"Enter a number:\"))\n",
    "def pol(Unum):\n",
    "    temp=Unum\n",
    "    rev = 0\n",
    "    while(Unum>0):\n",
    "        dig=Unum%10\n",
    "        rev=rev*10+dig\n",
    "        Unum=Unum//10\n",
    "    if(temp==rev):\n",
    "        print(\"The number is palindrome!\")\n",
    "    else:\n",
    "        print(\"Not a palindrome!\")\n",
    "pol(Unum)\n"
   ]
  },
  {
   "cell_type": "markdown",
   "metadata": {},
   "source": [
    "# Q2) Write a Python script to display the various Date Time formats.\n",
    "#Current date and time\n",
    "#Current year\n",
    "#Month of year\n",
    "#Week number of the year\n",
    "#Weekday of the week\n",
    "#Day of year\n",
    "#Day of the month\n",
    "#Day of week"
   ]
  },
  {
   "cell_type": "code",
   "execution_count": 3,
   "metadata": {},
   "outputs": [
    {
     "name": "stdout",
     "output_type": "stream",
     "text": [
      "Current date and time: \n",
      "2020-06-29 20:25:16.731587\n",
      "Current date and time: \n",
      "2020-06-29 20:25:16\n",
      "Current Year : \n",
      "2020\n",
      "Current Month : \n",
      "06\n",
      "Current day: \n",
      "29\n",
      "Current time \n",
      "20:25:16\n",
      "Week #27 of year 2020\n"
     ]
    }
   ],
   "source": [
    "import datetime\n",
    "print('Current date and time: ')\n",
    "now = datetime.datetime.now()\n",
    "print (now)\n",
    "print('Current date and time: ')\n",
    "print (now.strftime('%Y-%m-%d %H:%M:%S'))\n",
    "print('Current Year : ')\n",
    "print (now.strftime('%Y'))\n",
    "print('Current Month : ')\n",
    "print (now.strftime('%m'))\n",
    "print('Current day: ')\n",
    "print (now.strftime('%d'))\n",
    "print('Current time ')\n",
    "print (now.strftime('%H:%M:%S'))\n",
    "\n",
    "my_date = datetime.date.today()\n",
    "year, week_num, day_of_week = my_date.isocalendar()\n",
    "print(\"Week #\" + str(week_num) + \" of year \" + str(year))\n"
   ]
  },
  {
   "cell_type": "markdown",
   "metadata": {},
   "source": [
    "# Q4 Write a Python program to subtract 30 days from current date."
   ]
  },
  {
   "cell_type": "code",
   "execution_count": 4,
   "metadata": {},
   "outputs": [
    {
     "name": "stdout",
     "output_type": "stream",
     "text": [
      "Current date : 2020-06-29\n",
      "30 days before Current Date : 2020-05-30\n"
     ]
    }
   ],
   "source": [
    "import datetime\n",
    "from datetime import date, timedelta\n",
    "dt = date.today() - timedelta(30)\n",
    "print ('Current date :', date.today ())\n",
    "print ('30 days before Current Date :', dt)"
   ]
  },
  {
   "cell_type": "markdown",
   "metadata": {},
   "source": [
    "# Q5) Write a Python program to match a string that contains only upper and lowercase letters, numbers, and underscores.\n",
    "#if match found console output: match found\n",
    "#else no match found"
   ]
  },
  {
   "cell_type": "code",
   "execution_count": 6,
   "metadata": {},
   "outputs": [
    {
     "name": "stdout",
     "output_type": "stream",
     "text": [
      "Not matched!\n",
      "Not matched!\n"
     ]
    }
   ],
   "source": [
    "import re\n",
    "def text_match(text):\n",
    "        #regex\n",
    "        patterns = '^[a-zA-Z0-9_]*$'\n",
    "        #search pattern\n",
    "        if re.search(patterns,  text):\n",
    "                return 'Found a match!'\n",
    "        else:\n",
    "                return('Not matched!')\n",
    "\n",
    "print(text_match(\"Match these string for Alanzo\"))\n",
    "print(text_match(\"Did these string contained any match \"))"
   ]
  }
 ],
 "metadata": {
  "kernelspec": {
   "display_name": "Python 3",
   "language": "python",
   "name": "python3"
  },
  "language_info": {
   "codemirror_mode": {
    "name": "ipython",
    "version": 3
   },
   "file_extension": ".py",
   "mimetype": "text/x-python",
   "name": "python",
   "nbconvert_exporter": "python",
   "pygments_lexer": "ipython3",
   "version": "3.7.6"
  }
 },
 "nbformat": 4,
 "nbformat_minor": 4
}
