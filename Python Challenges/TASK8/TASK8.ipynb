{
 "cells": [
  {
   "cell_type": "markdown",
   "metadata": {},
   "source": [
    "# Q1 Write a function that prints all the prime numbers between 0 and limit where limit is a parameter. \n"
   ]
  },
  {
   "cell_type": "code",
   "execution_count": 2,
   "metadata": {},
   "outputs": [
    {
     "name": "stdout",
     "output_type": "stream",
     "text": [
      "Input a number > 10\n",
      "Prime numbers between 0 and 10 are:\n",
      "2\n",
      "3\n",
      "5\n",
      "7\n"
     ]
    }
   ],
   "source": [
    "lower = 0\n",
    "upper = int(input( 'Input a number > '))\n",
    "\n",
    "print(\"Prime numbers between\", lower, \"and\", upper, \"are:\")\n",
    "def prime(lower, upper ):\n",
    "    for n in range(lower, upper + 1):\n",
    "       # all prime numbers are greater than 1\n",
    "       if n > 1:\n",
    "           for i in range(2, n):\n",
    "               if (n % i) == 0:\n",
    "                   break\n",
    "           else:\n",
    "               print(n)\n",
    "\n",
    "prime(lower, upper)"
   ]
  },
  {
   "cell_type": "markdown",
   "metadata": {},
   "source": [
    "# Q2 Given a year, report if it is a leap year. "
   ]
  },
  {
   "cell_type": "code",
   "execution_count": 3,
   "metadata": {},
   "outputs": [
    {
     "name": "stdout",
     "output_type": "stream",
     "text": [
      "Enter the year : 2020\n",
      "2020 is a Leap Year\n"
     ]
    }
   ],
   "source": [
    "\n",
    "year = int(input(\"Enter the year : \"))\n",
    "\n",
    "if(year%4 == 0):\n",
    "    if(year%100 == 0):\n",
    "        if(year%400 == 0):\n",
    "            print(\"%d is a Leap Year\" %year)\n",
    "        else:\n",
    "            print(\"%d isn't the Leap Year\" %year)\n",
    "    else:\n",
    "        print(\"%d is a Leap Year\" %year)\n",
    "else:\n",
    "    print(\"%d isn't the Leap Year\" %year)"
   ]
  },
  {
   "cell_type": "markdown",
   "metadata": {},
   "source": [
    "# Q3 The ISBN-10 verification process is used to validate book identification numbers. These normally contain dashes and look like 3-598-21508-8. Write a function to report if a number is valid 10 digit ISBN \n"
   ]
  },
  {
   "cell_type": "code",
   "execution_count": 4,
   "metadata": {},
   "outputs": [
    {
     "name": "stdout",
     "output_type": "stream",
     "text": [
      "Please enter isbn: 3-598-21508-8\n",
      "3-598-21508-8 Valid isbn\n"
     ]
    },
    {
     "data": {
      "text/plain": [
       "'3-598-21508-8'"
      ]
     },
     "execution_count": 4,
     "metadata": {},
     "output_type": "execute_result"
    }
   ],
   "source": [
    "import re\n",
    "isbn = input(\"Please enter isbn: \")\n",
    "def ISBN(isbn):\n",
    "    p = r'[0-9]{1}-[0-9]{3}-[0-9]{5}-[0-9]{1}'\n",
    "    if re.match(p,isbn):\n",
    "        print(isbn, 'Valid isbn')\n",
    "        return isbn\n",
    "    else:\n",
    "        print(isbn, 'Not a valid isbn')\n",
    "\n",
    "ISBN(isbn)"
   ]
  },
  {
   "cell_type": "markdown",
   "metadata": {},
   "source": [
    "# Q4 Given a list of numbers, return True if first and last number of a list is same"
   ]
  },
  {
   "cell_type": "code",
   "execution_count": 5,
   "metadata": {},
   "outputs": [
    {
     "name": "stdout",
     "output_type": "stream",
     "text": [
      "Beginning and end number is not the same\n"
     ]
    }
   ],
   "source": [
    "list1 = [2, 3, 4,5,6,2,4]\n",
    "def FL(list1):\n",
    "    y = (list1[0])\n",
    "    x = (list1[-1])\n",
    "    if y == x:\n",
    "        print ('Beginning and end number is the same')\n",
    "        return True\n",
    "    else:\n",
    "        print ('Beginning and end number is not the same')\n",
    "\n",
    "FL(list1)"
   ]
  }
 ],
 "metadata": {
  "kernelspec": {
   "display_name": "Python 3",
   "language": "python",
   "name": "python3"
  },
  "language_info": {
   "codemirror_mode": {
    "name": "ipython",
    "version": 3
   },
   "file_extension": ".py",
   "mimetype": "text/x-python",
   "name": "python",
   "nbconvert_exporter": "python",
   "pygments_lexer": "ipython3",
   "version": "3.7.6"
  }
 },
 "nbformat": 4,
 "nbformat_minor": 4
}
