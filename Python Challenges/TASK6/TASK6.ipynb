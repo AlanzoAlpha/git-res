{
 "cells": [
  {
   "cell_type": "markdown",
   "metadata": {},
   "source": [
    "# Q1 Write a Python function for checking the speed of drivers. This function should have one parameter: speed.\n",
    "'''If speed is less than 70, it should print “Ok”.\n",
    "Otherwise, for every 5km above the speed limit (70), it should give the driver one demerit point and print the total number of demerit points. For example, if the speed is 80, it should print: “Points: 2”.\n",
    "If the driver gets more than 12 points, the function should print: “License suspended” '''"
   ]
  },
  {
   "cell_type": "code",
   "execution_count": 1,
   "metadata": {},
   "outputs": [
    {
     "name": "stdout",
     "output_type": "stream",
     "text": [
      "Enter speed: 90\n",
      "Point: 4\n",
      "None\n"
     ]
    }
   ],
   "source": [
    "speed=int(input('Enter speed: '))\n",
    "def check(speed):\n",
    "    if speed <= 70:\n",
    "        print('OK')\n",
    "\n",
    "    else:\n",
    "        speed1 = (speed-70)//5\n",
    "\n",
    "        if speed1 <= 12:\n",
    "            return print(f'Point: {speed1}')\n",
    "\n",
    "        else:\n",
    "            return print('License suspended')\n",
    "\n",
    "enter = check(speed)\n",
    "\n",
    "print(enter)\n"
   ]
  },
  {
   "cell_type": "markdown",
   "metadata": {},
   "source": [
    "# Q2 Read a file in python, Use Try, Exception and Finally block to execute pieces of codecheck if it exists. If it exists print out the first 10 lines. If it does not exist print on console “the file does not exist” \n",
    "\n",
    "try:\n",
    "    f = open('Pandas.txt', 'r+')\n",
    "    for i in range(10):\n",
    "        print(f.readline())\n",
    "    f.close()\n",
    "except FileNotFoundError as error:\n",
    "    print('File not found')\n",
    "    if error:\n",
    "        print('A new file is created')\n",
    "        f = open('Pandas.txt', 'w+')\n",
    "finally:\n"
   ]
  },
  {
   "cell_type": "code",
   "execution_count": null,
   "metadata": {},
   "outputs": [],
   "source": [
    "try:\n",
    "    f = open('Pandas.txt', 'r+')\n",
    "    for i in range(10):\n",
    "        line = next(f).strip()\n",
    "        print(line)\n",
    "except FileNotFoundError as error:\n",
    "    print('File not found')\n",
    "    if error:\n",
    "        print('A new file is created')\n",
    "        f = open('Pandas.txt', 'w+')\n",
    "finally:\n",
    "    f.close()"
   ]
  },
  {
   "cell_type": "markdown",
   "metadata": {},
   "source": [
    "# Q3 Create a function that finds the range of a triangle's third edge, given the side lengths of first two parameters."
   ]
  },
  {
   "cell_type": "code",
   "execution_count": 2,
   "metadata": {},
   "outputs": [
    {
     "name": "stdout",
     "output_type": "stream",
     "text": [
      "Input side a >: 20\n",
      "Input side b >: 30\n",
      "Triangle side c range is between 10 and 50\n"
     ]
    }
   ],
   "source": [
    "a = int(input('Input side a >: '))\n",
    "b = int(input('Input side b >: '))\n",
    "\n",
    "def tri(a, b):\n",
    "\n",
    "    if a>b:\n",
    "        lowerb = a-b\n",
    "        Upperb = b+a\n",
    "        print(f'Triangle side c range is between {lowerb} and {Upperb}')\n",
    "    elif b>a:\n",
    "        lowerb = b-a\n",
    "        Upperb = b+a\n",
    "        print(f'Triangle side c range is between {lowerb} and {Upperb}')\n",
    "\n",
    "tri(a,b)"
   ]
  },
  {
   "cell_type": "markdown",
   "metadata": {},
   "source": [
    "# Create a function that takes in name of\n",
    "Name of Team  \n",
    "wins, draws and losses and calculates the number of points a football team has obtained so far. A win receives 3 points, a draw 1 point and a loss 0 points.\n",
    "Create a dictionary of Taunts \n",
    "Create a dictionary of good comments\n",
    "Create a dictionary of bad comments \n",
    "Depending on your personal feelings and the how many wins the team scores randomly print a message (Taunt + good/bad comments)\n"
   ]
  },
  {
   "cell_type": "code",
   "execution_count": 3,
   "metadata": {},
   "outputs": [
    {
     "name": "stdout",
     "output_type": "stream",
     "text": [
      "The team name is rat_race\n",
      "The team points are 21, wins are 6, draws are 3 and losses are 0\n",
      "You are doing great\n"
     ]
    }
   ],
   "source": [
    "def foot(team = 'Reggae_boys', wins = 0 , draws = 0, losses = 0 ):\n",
    "    print (f'The team name is {team}')\n",
    "    points = (wins*3) + draws +(losses*0)\n",
    "    print (f'The team points are {points}, wins are {wins}, draws are {draws} and losses are {losses}')\n",
    "    x = {'Taunts' :' You are a loser',\n",
    "         'Good': 'You are doing great',\n",
    "         'bad': 'This team sucks',\n",
    "            'comments': 'Keep on working!'}\n",
    "    feelings =''\n",
    "    if losses > 6 and points < 6:\n",
    "        print (x.get('Taunts'))\n",
    "    elif losses > 12 and points < 3:\n",
    "        print (x.get('Bab'))\n",
    "    elif wins >= 6 and points > 12:\n",
    "        print(x.get('Good'))\n",
    "    else:\n",
    "        print(x.get('comments'))\n",
    "\n",
    "\n",
    "foot('rat_race', 6, 3, 0)"
   ]
  },
  {
   "cell_type": "code",
   "execution_count": null,
   "metadata": {},
   "outputs": [],
   "source": []
  }
 ],
 "metadata": {
  "kernelspec": {
   "display_name": "Python 3",
   "language": "python",
   "name": "python3"
  },
  "language_info": {
   "codemirror_mode": {
    "name": "ipython",
    "version": 3
   },
   "file_extension": ".py",
   "mimetype": "text/x-python",
   "name": "python",
   "nbconvert_exporter": "python",
   "pygments_lexer": "ipython3",
   "version": "3.7.6"
  }
 },
 "nbformat": 4,
 "nbformat_minor": 4
}
