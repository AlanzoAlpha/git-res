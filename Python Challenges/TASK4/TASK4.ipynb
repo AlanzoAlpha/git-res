{
 "cells": [
  {
   "cell_type": "markdown",
   "metadata": {},
   "source": [
    "# Q1 Write a Python function that accepts a string and calculate the number of upper case letters and lower case letters."
   ]
  },
  {
   "cell_type": "code",
   "execution_count": 4,
   "metadata": {},
   "outputs": [
    {
     "name": "stdout",
     "output_type": "stream",
     "text": [
      "Number of upper case is 2 and the number of lower case is 27\n"
     ]
    }
   ],
   "source": [
    "string1 = ('I am a happy coder+ I am a fast learner')\n",
    "def case(string1):\n",
    "    U = 0\n",
    "    l = 0\n",
    "    for i in string1:\n",
    "        if i.isupper():\n",
    "            U +=1\n",
    "        if i.islower():\n",
    "            l +=1\n",
    "\n",
    "    print (f'Number of upper case is {U} and the number of lower case is {l}')\n",
    "    \n",
    "case(string1)"
   ]
  },
  {
   "cell_type": "markdown",
   "metadata": {},
   "source": [
    "# Q2) Write a Python function that prints out the first n rows of Pascal's triangle"
   ]
  },
  {
   "cell_type": "code",
   "execution_count": 6,
   "metadata": {},
   "outputs": [
    {
     "name": "stdout",
     "output_type": "stream",
     "text": [
      "Enter number of rows: 6\n",
      "                        1 \n",
      "                     1      1 \n",
      "                  1      2      1 \n",
      "               1      3      3      1 \n",
      "            1      4      6      4      1 \n",
      "         1      5     10     10      5      1 \n"
     ]
    }
   ],
   "source": [
    "num=int(input(\"Enter number of rows: \"))\n",
    "def pas(num):\n",
    "    a=[]\n",
    "    for i in range(num):\n",
    "        a.append([])\n",
    "        a[i].append(1)\n",
    "        for j in range(1,i):\n",
    "            a[i].append(a[i-1][j-1]+a[i-1][j])\n",
    "        if(num!=0):\n",
    "            a[i].append(1)\n",
    "    for i in range(num):\n",
    "        print(\"   \"*(num-i),end=\" \",sep=\" \")\n",
    "        for j in range(0,i+1):\n",
    "            print('{0:6}'.format(a[i][j]),end=\" \",sep=\" \")\n",
    "        print()\n",
    "pas(num)\n"
   ]
  }
 ],
 "metadata": {
  "kernelspec": {
   "display_name": "Python 3",
   "language": "python",
   "name": "python3"
  },
  "language_info": {
   "codemirror_mode": {
    "name": "ipython",
    "version": 3
   },
   "file_extension": ".py",
   "mimetype": "text/x-python",
   "name": "python",
   "nbconvert_exporter": "python",
   "pygments_lexer": "ipython3",
   "version": "3.7.6"
  }
 },
 "nbformat": 4,
 "nbformat_minor": 4
}
